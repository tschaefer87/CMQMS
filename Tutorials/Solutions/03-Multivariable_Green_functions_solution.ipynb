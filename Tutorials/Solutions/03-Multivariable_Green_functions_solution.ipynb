{
 "cells": [
  {
   "cell_type": "markdown",
   "metadata": {},
   "source": [
    "### <i class=\"fa fa-gear fa-x\" style=\"color: #186391\"></i> Exercise 1\n",
    "\n",
    "Modify the entire notebook in such a way that the dispersion on the square lattice also includes next-nearest neighbor (diagonal) hopping $t^\\prime$. The new dispersion relation is $\\epsilon(\\mathbf{k})=-2t(\\cos{k_x}+\\cos{k_y}) - 4t^\\prime \\cos{k_x}\\cos{k_y}$. How does the corresponding tight-binding matrix look like?\n",
    "\n",
    "Execute the notebook for $t^\\prime=-0.25t$. What are the differences in the dispersion, Fermi surface and DOS w.r.t. the case of $t^\\prime$=0?\n",
    "\n",
    "Execute the notebook for $t^\\prime=-0.25t$ also with a chemical potential of $\\mu=-0.5385$, which corresponds roughly to half-filling, i.e., on each lattice site sits one electron on average."
   ]
  },
  {
   "cell_type": "markdown",
   "metadata": {},
   "source": [
    "# Introduction to multivariable Green's functions\n",
    "\n",
    "In this notebook, we learn how to create and manipulate multivariable Green's functions.\n",
    "As an example, we consider the Green's function on a square lattice with nearest-neighbour hopping $t$ and next-nearest neighbor hopping $t^\\prime$,\n",
    "\n",
    "\\begin{equation}\n",
    "G(\\mathbf{k},i\\omega_n)=\\frac{1}{i\\omega_n  + \\mu - \\epsilon(\\mathbf{k})}\n",
    "\\end{equation}\n",
    "\n",
    "with dispersion $\\epsilon(\\mathbf{k})=-2t(\\cos{k_x}+\\cos{k_y}) - 4t^\\prime \\cos{k_x}\\cos{k_y}$. Here $\\mathbf{k}$ is a vector in the Brillouin zone (in units where the lattice spacing is unity $a=1$), $\\mu$ is the chemical potential and $i\\omega_n$ is a Matsubara frequency."
   ]
  },
  {
   "cell_type": "markdown",
   "metadata": {},
   "source": [
    "## Imports and parameters\n",
    "\n",
    "Below we import modules that will be useful in the following. We also set the\n",
    "parameters of the problem."
   ]
  },
  {
   "cell_type": "code",
   "execution_count": null,
   "metadata": {},
   "outputs": [],
   "source": [
    "# Relevant Imports \n",
    "from triqs.lattice import BravaisLattice, BrillouinZone\n",
    "from triqs.gf import Gf, MeshProduct, MeshBrZone, MeshImFreq\n",
    "import numpy as np\n",
    "from math import cos, pi"
   ]
  },
  {
   "cell_type": "code",
   "execution_count": null,
   "metadata": {},
   "outputs": [],
   "source": [
    "# Physical parameters\n",
    "beta = 5         # Inverse temperature\n",
    "t    = 1.0       # Nearest-neighbor hopping (unit of energy)\n",
    "tp   = -0.25 * t # Next-nearest-neighbor hopping\n",
    "mu   = -0.5385   # Chemical potential"
   ]
  },
  {
   "cell_type": "markdown",
   "metadata": {},
   "source": [
    "## Constructing and Initializing a Lattice Green's function\n",
    "\n",
    "We first define a simple Bravais lattice (`BravaisLattice`) in 2 dimensions with basis vectors $\\hat{e}_x = (1, 0, 0)$ and ${\\hat e}_y=(0, 1, 0)$. Given this bravais lattice we construct the reciprocal (momentum) space Brillouin zone (`BrillouinZone`), on which we can then construct a momentum mesh (`MeshBrZone`)."
   ]
  },
  {
   "cell_type": "code",
   "execution_count": null,
   "metadata": {},
   "outputs": [],
   "source": [
    "BL = BravaisLattice([(1,0,0), (0,1,0)]) # Two unit vectors in R3\n",
    "BZ = BrillouinZone(BL) \n",
    "\n",
    "# n_k denotes the number of k-points for each dimension\n",
    "n_k = 32\n",
    "k_mesh = MeshBrZone(bz=BZ, n_k=n_k)"
   ]
  },
  {
   "cell_type": "markdown",
   "metadata": {},
   "source": [
    "The Lattice Green's function is defined on a mesh that is the cartesian product of this momentum mesh and a Matsubara mesh.\n",
    "\n",
    "$$\n",
    "G: (\\mathbf{k}, i\\omega_n) \\rightarrow {\\mathcal{C}}\n",
    "$$\n",
    "\n",
    "To construct this mesh we use the `MeshProduct` provided by TRIQS:"
   ]
  },
  {
   "cell_type": "code",
   "execution_count": null,
   "metadata": {},
   "outputs": [],
   "source": [
    "iw_mesh = MeshImFreq(beta=beta, statistic='Fermion', n_iw=128)\n",
    "k_iw_mesh = MeshProduct(k_mesh, iw_mesh)\n",
    "\n",
    "# Recall that for an empty target_shape G0 has values that are scalars instead of matrices.\n",
    "G = Gf(mesh=k_iw_mesh, target_shape=[])"
   ]
  },
  {
   "cell_type": "markdown",
   "metadata": {},
   "source": [
    "To fill the Green's function we construct a function for the dispersion $\\epsilon(\\mathbf{k})$ and set each element of $G$ by looping over the momentum and frequency meshes."
   ]
  },
  {
   "cell_type": "code",
   "execution_count": null,
   "metadata": {},
   "outputs": [],
   "source": [
    "def eps(k):\n",
    "    return -2 * t * (cos(k[0]) + cos(k[1])) - 4 * tp * cos(k[0]) * cos(k[1])"
   ]
  },
  {
   "cell_type": "code",
   "execution_count": null,
   "metadata": {},
   "outputs": [],
   "source": [
    "%%timeit\n",
    "# Loop initialization. Slow..\n",
    "for k, iw in G.mesh:\n",
    "    G[k, iw] = 1/(iw + mu - eps(k))"
   ]
  },
  {
   "cell_type": "markdown",
   "metadata": {},
   "source": [
    "## Numpy Broadcasting\n",
    "\n",
    "Instead of writing a loop we can use the [broadcasting](https://numpy.org/doc/stable/user/basics.broadcasting.html) features of the numpy package to assign directly into the data-array of the Green's function object. This approach is a lot faster than writing a loop"
   ]
  },
  {
   "cell_type": "code",
   "execution_count": null,
   "metadata": {},
   "outputs": [],
   "source": [
    "iw_arr = np.array(list(iw_mesh.values()))\n",
    "k_arr  = np.array(list(k_mesh.values()))\n",
    "np_eps = np.vectorize(eps, signature='(d)->()')"
   ]
  },
  {
   "cell_type": "code",
   "execution_count": null,
   "metadata": {},
   "outputs": [],
   "source": [
    "%%timeit\n",
    "# Vectorized function evaluation\n",
    "eps_arr = np_eps(k_arr)\n",
    "\n",
    "# Numpy Broadcasting\n",
    "G.data[:] = 1.0 / (iw_arr[None,::] + mu - eps_arr[::,None])"
   ]
  },
  {
   "cell_type": "markdown",
   "metadata": {},
   "source": [
    "We provide through the [TRIQS/tprf](https://triqs.github.io/tprf) application more efficient parallelized routines for initializing lattice Green functions. Those will be introduced in the **Two Particle Reponse** Notebooks."
   ]
  },
  {
   "cell_type": "markdown",
   "metadata": {},
   "source": [
    "## Evaluate the Green function\n",
    "\n",
    "The Green's function object $G(k,i\\omega_n)$ can be evaluated like an ordinary Python function\n",
    "at a given reciprocal vector and Matsubara frequency:\n",
    "\n",
    "- The reciprocal vector $k$ is a tuple/list/numpy.array of double \n",
    "- The Matsubara frequency is an integer $n$, the $n$ in $i\\omega_n$\n",
    "\n",
    "The result will be a linear interpolation on the Brillouin zone \n",
    "  with the points on the grid of $G$ around $k$.\n",
    "\n",
    "Therefore, one can use $g_0$ as any python function of $k$ and $i\\omega_n$, \n",
    "and forget its precise representation in memory (what is the grid, etc...).\n",
    "We will use that in the plot functions below.\n",
    "\n",
    "Example:\n",
    "Let's evaluate the above Green's function at $\\mathbf{k} = (\\pi,\\pi,0)$ and $i\\omega_2$. As $\\epsilon((\\pi,\\pi,0)) = 4t + t = 5$ and $i\\omega_2 = i\\frac{(2*2 + 1)\\pi}{\\beta}$, we check:"
   ]
  },
  {
   "cell_type": "code",
   "execution_count": null,
   "metadata": {},
   "outputs": [],
   "source": [
    "G_eval  = G((pi,pi,0), 2)\n",
    "G_exact = 1.0/(1j * (2*2+1)*pi/beta - 5 + mu)\n",
    "print(G_eval - G_exact) # Check"
   ]
  },
  {
   "cell_type": "markdown",
   "metadata": {},
   "source": [
    "## Partial evaluation\n",
    "\n",
    "Given a function $G(k,i\\omega_n)$ it is possible to obtain the function $i\\omega_n \\rightarrow G(k_0, i\\omega_n)$ for a fixed $k_0$:"
   ]
  },
  {
   "cell_type": "code",
   "execution_count": null,
   "metadata": {},
   "outputs": [],
   "source": [
    "k0 = (0.02,0.01,0)      # a k-point as a tuple of 3 floats\n",
    "Giw = G(k0, all)        # We use the \"built-in\" function all here as equivalent of :, \n",
    "                        # which Python does not allow in ()\n",
    "    \n",
    "# Giw is a Green's function of the Matsubara frequency only\n",
    "# It is calculated by k-interpolation of G\n",
    "print(Giw)\n",
    "\n",
    "# Giw uses the original Matsubara mesh\n",
    "assert Giw.mesh == G.mesh[1]"
   ]
  },
  {
   "cell_type": "markdown",
   "metadata": {},
   "source": [
    "Here `Giw` is obtained through linearly of `G` for the point $k_0$ on the original Brillouin zone grid.\n",
    "\n",
    "It is simply a Matsubara Green's function, which means that you can use all the common methods, such as `density()` or Fourier transforms:"
   ]
  },
  {
   "cell_type": "code",
   "execution_count": null,
   "metadata": {},
   "outputs": [],
   "source": [
    "# This is the density n_k at k=(0.02, 0.01)\n",
    "print(\"n_k =\",  Giw.density().real)"
   ]
  },
  {
   "cell_type": "markdown",
   "metadata": {},
   "source": [
    "## Defining a Tight-Binding Hamiltonian"
   ]
  },
  {
   "cell_type": "markdown",
   "metadata": {},
   "source": [
    "In practice we often know the tight-binding Hamiltonian on our Bravais lattice rather than the analytic dispersion relation.\n",
    "TRIQS provides the `TightBinding` class for this case:"
   ]
  },
  {
   "cell_type": "code",
   "execution_count": null,
   "metadata": {},
   "outputs": [],
   "source": [
    "from triqs.lattice import TightBinding\n",
    "?TightBinding"
   ]
  },
  {
   "cell_type": "code",
   "execution_count": null,
   "metadata": {},
   "outputs": [],
   "source": [
    "# Define mapping between displacement vectors and hopping amplitudes\n",
    "# Matrix structure of the amplitudes is w.r.t. atoms in the unit cell (here only one).\n",
    "hop= {  (1,0)    :  [[ -t]],       \n",
    "        (-1,0)   :  [[ -t]],     \n",
    "        (0,1)    :  [[ -t]],\n",
    "        (0,-1)   :  [[ -t]],\n",
    "        (1,1)    :  [[ -tp]],\n",
    "        (1,-1)   :  [[ -tp]],\n",
    "        (-1,1)   :  [[ -tp]],\n",
    "        (-1,-1)  :  [[ -tp]]\n",
    "     }\n",
    "TB = TightBinding(bl=BL, hoppings=hop)\n",
    "\n",
    "# Green's function on the k_mesh holding the dispersion values\n",
    "eps_k = TB.dispersion(k_mesh)[0]\n",
    "\n",
    "# Initialize the lattice Green's function using Numpy Broadcasting\n",
    "Gtb = G.copy()\n",
    "Gtb.data[:] = 1.0 / (iw_arr[None,::] + mu - eps_k.data[::,None])\n",
    "\n",
    "# Check Equality\n",
    "assert np.linalg.norm((G - Gtb).data) < 1e-12"
   ]
  },
  {
   "cell_type": "markdown",
   "metadata": {},
   "source": [
    "We note that the object `eps_k` returned by the `dispersion` function is also a triqs `Gf` object, but one that has only a momentum mesh. This illustrates nicely that the `Gf` class in TRIQS is very flexible w.r.t. the domain of definition (mesh), and can be used to store generic functions on the domain, not just Green Functions in the sense of the many-body definition.\n",
    "\n",
    "Let us now plot the dispersion relation `eps_k` we have obtained"
   ]
  },
  {
   "cell_type": "code",
   "execution_count": null,
   "metadata": {},
   "outputs": [],
   "source": [
    "# TOFIX!!!\n",
    "# These lines should not be necessary (wrong cast in TB.dispersion?)\n",
    "eps_k = Gf(mesh=k_mesh, target_shape=[])\n",
    "eps_k.data[:] = TB.dispersion(k_mesh)[0].data[:]"
   ]
  },
  {
   "cell_type": "code",
   "execution_count": null,
   "metadata": {},
   "outputs": [],
   "source": [
    "# Prepare the data\n",
    "k_grid = k_arr.reshape(n_k,n_k,3)\n",
    "X = k_grid[...,0]/pi\n",
    "Y = k_grid[...,1]/pi\n",
    "Z = eps_k.data.reshape(n_k,n_k)\n",
    "\n",
    "# Plot the dispersion\n",
    "from matplotlib import pyplot as plt\n",
    "%matplotlib inline\n",
    "\n",
    "fig  = plt.figure(dpi=110)\n",
    "ax   = plt.axes(projection='3d')\n",
    "surf = ax.plot_surface(X, Y, Z, cmap='coolwarm')\n",
    "fig.colorbar(surf, shrink=0.5, aspect=10)\n",
    "\n",
    "ax.set_xlabel(r\"$k_x/\\pi$\")\n",
    "ax.set_ylabel(r\"$k_y/\\pi$\")\n",
    "ax.set_title(r\"$\\epsilon(\\mathbf{k})$\")\n",
    "\n",
    "plt.show()"
   ]
  },
  {
   "cell_type": "markdown",
   "metadata": {},
   "source": [
    "Since the square lattice is two-dimensional it is possible to visualize the dispersion using a color plot.\n",
    "\n",
    "Here is an example that plots $\\epsilon(\\mathbf{k})-\\mu$ in the entire Brillouin zone as well as the shape of the Fermi surface at $\\omega = 0$ (dotted line)."
   ]
  },
  {
   "cell_type": "code",
   "execution_count": null,
   "metadata": {},
   "outputs": [],
   "source": [
    "k = np.linspace(-np.pi, np.pi, num=100)\n",
    "kx, ky = np.meshgrid(k, k)\n",
    "\n",
    "e_k_interp = np.vectorize(lambda kx, ky : eps_k((kx, ky, 0)).real - mu)(kx, ky)\n",
    "\n",
    "plt.figure()\n",
    "\n",
    "plt.pcolormesh(kx, ky, e_k_interp, rasterized=True, cmap='RdBu')\n",
    "plt.colorbar().ax.set_ylabel(r'$\\epsilon(\\mathbf{k})-\\mu$'); \n",
    "\n",
    "plt.contour(kx, ky, e_k_interp, levels=[0], linestyles='dotted')\n",
    "\n",
    "plt.xlabel(r'$k_x$'); plt.ylabel(r'$k_y$');\n",
    "k_ticks, k_labels = [-np.pi, 0, np.pi], [r\"$-\\pi$\", r\"0\", r\"$\\pi$\"]\n",
    "plt.xticks(k_ticks, k_labels); plt.yticks(k_ticks, k_labels);\n",
    "plt.axis('square');\n",
    "\n",
    "# -- High-symmetry path G-X-M-G\n",
    "\n",
    "pts = [\n",
    "    (0., 0., r'$\\Gamma$', 'w', 'bottom', 'right'), \n",
    "    (np.pi, 0., r'$X$', 'k', 'center', 'left'),\n",
    "    (np.pi, np.pi, r'$M$', 'r', 'bottom', 'left'),\n",
    "    ]\n",
    "for x, y, label, color, va, ha in pts:\n",
    "    plt.plot(x, y, 'o', color=color, clip_on=False, zorder=110)\n",
    "    plt.text(x, y, label, color=color, fontsize=18, va=va, ha=ha)\n",
    "\n",
    "X, Y, _, _, _, _ = zip(*(pts+[pts[0]]))\n",
    "plt.plot(X, Y, '-m', zorder=100, lw=4);"
   ]
  },
  {
   "cell_type": "markdown",
   "metadata": {},
   "source": [
    "Another useful tool of the tight-binding machinery is the calculation of the density of states (DOS). For this we can import the `dos` routine, which returns a density of states for a given `TightBinding` object."
   ]
  },
  {
   "cell_type": "code",
   "execution_count": null,
   "metadata": {},
   "outputs": [],
   "source": [
    "from triqs.lattice.tight_binding import dos\n",
    "\n",
    "d = dos(TB, n_kpts=500, n_eps=101, name='DOS')[0]"
   ]
  },
  {
   "cell_type": "code",
   "execution_count": null,
   "metadata": {},
   "outputs": [],
   "source": [
    "# Plot the dos it with matplotlib\n",
    "from triqs.plot.mpl_interface import oplot\n",
    "\n",
    "oplot(d,'-o')\n",
    "plt.xlim(-5,6)\n",
    "plt.xlabel(r'$\\omega$')\n",
    "plt.ylim(0,0.4)\n",
    "plt.ylabel(r'DOS$(\\omega)$')\n",
    "plt.vlines(x=mu,ymin=0.,ymax=0.4, linestyle='--', color='gray', label=r'$\\omega=\\mu$')\n",
    "plt.vlines(x=0.,ymin=0.,ymax=0.4, linestyle='-', color='black', linewidth=0.3, label=r'$\\omega=0$')\n",
    "plt.legend(loc=1)\n",
    "plt.show()"
   ]
  },
  {
   "cell_type": "markdown",
   "metadata": {},
   "source": [
    "Since this is a non-interacting problem, the DOS should be equivalent to $-\\frac{1}{\\pi}$Im $G^R_\\text{loc}(\\omega)$. We first calculate the local Green function by summing over all $\\mathbf{k}$-points. We have to take a matrix-valued Green function since the next step is not (yet) implemented for a scalar-valued one."
   ]
  },
  {
   "cell_type": "code",
   "execution_count": null,
   "metadata": {},
   "outputs": [],
   "source": [
    "G_loc = Gf(mesh=iw_mesh, target_shape=[1,1])\n",
    "\n",
    "for k, iw in k_iw_mesh:\n",
    "    G_loc[iw] = G_loc[iw] + G[k,iw]\n",
    "G_loc = G_loc / len(k_mesh)"
   ]
  },
  {
   "cell_type": "markdown",
   "metadata": {},
   "source": [
    "Now we analytically continue the function with Pade."
   ]
  },
  {
   "cell_type": "code",
   "execution_count": null,
   "metadata": {},
   "outputs": [],
   "source": [
    "# A uniform real-frequency mesh on a given interval\n",
    "from triqs.gf import MeshReFreq\n",
    "w_mesh = MeshReFreq(window=(-6,6), n_w=1001)\n",
    "\n",
    "# Construct real-frequency Green's function and initialize it using Pade approximants\n",
    "G_w = Gf(mesh=w_mesh, target_shape=[1,1])\n",
    "G_w.set_from_pade(G_loc)"
   ]
  },
  {
   "cell_type": "markdown",
   "metadata": {},
   "source": [
    "As a last step we plot $-\\frac{1}{\\pi}$Im $G^R_\\text{loc}(\\omega)$."
   ]
  },
  {
   "cell_type": "code",
   "execution_count": null,
   "metadata": {},
   "outputs": [],
   "source": [
    "oplot(-G_w.imag/pi, linewidth=2, label='DOS')\n",
    "plt.xlim(-5,5)\n",
    "plt.xlabel(r'$\\omega$')\n",
    "plt.ylim(0,0.8)\n",
    "plt.ylabel(r'DOS$(\\omega)$')\n",
    "plt.vlines(x=mu,ymin=0.,ymax=0.8, linestyle='--', color='gray', label=r'$\\omega=\\mu$')\n",
    "plt.vlines(x=0.,ymin=0.,ymax=0.8, linestyle='-', color='black', linewidth=0.3, label=r'$\\omega=0$')\n",
    "plt.legend(loc=1)\n",
    "plt.show()"
   ]
  },
  {
   "cell_type": "markdown",
   "metadata": {},
   "source": [
    "We see that this roughly resembles the DOS. The differences may stem from the non-zero  temperature (the DOS is calculated at $T=0$), but much more it shows the potential problems of performing analytic continuation on numerical data."
   ]
  }
 ],
 "metadata": {
  "kernelspec": {
   "display_name": "Python 3 (ipykernel)",
   "language": "python",
   "name": "python3"
  },
  "language_info": {
   "codemirror_mode": {
    "name": "ipython",
    "version": 3
   },
   "file_extension": ".py",
   "mimetype": "text/x-python",
   "name": "python",
   "nbconvert_exporter": "python",
   "pygments_lexer": "ipython3",
   "version": "3.13.5"
  }
 },
 "nbformat": 4,
 "nbformat_minor": 4
}
