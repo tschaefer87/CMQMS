{
 "cells": [
  {
   "cell_type": "markdown",
   "id": "0d77e746-1027-4ee9-9af5-b3a72914bc34",
   "metadata": {},
   "source": [
    "# The solution of the Anderson impurity model (AIM) with iterated perturbation theory (IPT)\n",
    "\n",
    "In this tutorial we will solve the Anderson impurity model with the iterated perturbation theory, plot the spectral function and extract the quasiparticle properties from the self-energy for several system parameters."
   ]
  },
  {
   "cell_type": "code",
   "execution_count": null,
   "id": "305fdd91-10fd-4fef-bc0a-cf97ffa9d311",
   "metadata": {},
   "outputs": [],
   "source": [
    "from triqs.gf import Gf, MeshImFreq, MeshReFreq, Omega, Flat\n",
    "from triqs.gf import inverse, make_gf_from_fourier\n",
    "from math import pi\n",
    "import numpy as np"
   ]
  },
  {
   "cell_type": "code",
   "execution_count": null,
   "id": "4d24a7a3-9d6d-4db1-b757-5dc0d73cc030",
   "metadata": {},
   "outputs": [],
   "source": [
    "import matplotlib.pyplot as plt\n",
    "%matplotlib inline\n",
    "import matplotlib as mpl\n",
    "mpl.rcParams['figure.dpi']=100 \n",
    "from triqs.plot.mpl_interface import oplot, plt"
   ]
  },
  {
   "cell_type": "markdown",
   "id": "de76063e-8e6b-49c8-bbcf-51040e47b5e9",
   "metadata": {},
   "source": [
    "We would like to calculate the properties of a half-filled Anderson impurity model \n",
    "\n",
    "$$\n",
    "H = H_\\text{atom} + H_\\text{bath} + H_\\text{hybridization}\n",
    "$$\n",
    "\n",
    "$$\n",
    "H_\\text{atom} = Un^c_\\uparrow n^c_\\downarrow + (\\varepsilon_0 - \\mu) (n^c_\\uparrow + n^c_\\downarrow)\n",
    "$$\n",
    "\n",
    "$$\n",
    "H_\\text{bath} = \\sum\\limits_{l\\sigma}{\\tilde{\\varepsilon}_l a_{l\\sigma}^\\dagger}a_{l\\sigma}\n",
    "$$\n",
    "\n",
    "$$\n",
    "H_\\text{hybridization} = \\sum\\limits_{l\\sigma}{V_l a_{l\\sigma}^\\dagger}c_\\sigma + V^*_l c_\\sigma^\\dagger a_{l\\sigma}\n",
    "$$\n",
    "\n",
    "with a flat bath, which has a half-bandwidth of $D=10$ (see first Tutorial). The inverse temperature should be $\\beta=100$. The bath is hybridized with an impurity of energy level $\\varepsilon=0$ and hybridization constant $V=2$. The value of the Coulomb interaction should be $U=2$."
   ]
  },
  {
   "cell_type": "code",
   "execution_count": null,
   "id": "be09f335-d08e-4771-a31c-15a79c2d2566",
   "metadata": {},
   "outputs": [],
   "source": [
    "# Please give the parameters here.\n",
    "# Parameters\n",
    "D     = 10.0\n",
    "U     = 10\n",
    "eps_0 = 0.\n",
    "beta  = 100.0\n",
    "V     = 2."
   ]
  },
  {
   "cell_type": "markdown",
   "id": "c1d610ad-35e2-4911-b018-756d5b66aaf0",
   "metadata": {},
   "source": [
    "As a first step, we have to construct the Green function of the Weiss field ${\\cal G}_0(i\\omega_n)$ of shape $(1,1)$ with the appropriate Matsubara frequency mesh with $n_{i\\omega}=1000$."
   ]
  },
  {
   "cell_type": "code",
   "execution_count": null,
   "id": "10ba4cfb-5619-4370-ad65-e16f32e5a551",
   "metadata": {},
   "outputs": [],
   "source": [
    "# Please construct the mesh and the Green function here.\n",
    "n_iw = 1000\n",
    "iw_mesh = MeshImFreq(beta=beta, statistic='Fermion', n_iw=n_iw)\n",
    "G0_iw = Gf(mesh=iw_mesh, target_shape=[1,1])"
   ]
  },
  {
   "cell_type": "markdown",
   "id": "dc5798bb-319e-4d7f-83a1-6e94f2045143",
   "metadata": {},
   "source": [
    "For the non-interacting problem the chemical potential $\\mu=0$ at half-filling."
   ]
  },
  {
   "cell_type": "code",
   "execution_count": null,
   "id": "210652b3-f7cb-4c50-9e6a-3af87928c97a",
   "metadata": {},
   "outputs": [],
   "source": [
    "# Please give the chemical potential here.\n",
    "mu = 0."
   ]
  },
  {
   "cell_type": "code",
   "execution_count": null,
   "id": "1543a399-6dcc-4403-8906-23bd05e9e50c",
   "metadata": {},
   "outputs": [],
   "source": [
    "# Please fill the Weiss field with the appropriate values.\n",
    "# Then calculate and print the filling of this Weiss field.\n",
    "G0_iw << inverse(Omega - eps_0 + mu - V**2 * Flat(D))\n",
    "print(\"density of G0: %s\"%G0_iw.density())"
   ]
  },
  {
   "cell_type": "markdown",
   "id": "c011b12d-f967-46fe-923f-eb19a8757f67",
   "metadata": {},
   "source": [
    "For the calculation of the self-energy in IPT we first perform the Fourier transform of ${\\cal G}_0(i\\omega_n)$ to ${\\cal G}_0(\\tau)$."
   ]
  },
  {
   "cell_type": "code",
   "execution_count": null,
   "id": "763d756a-f607-4ca7-a117-15071317cb53",
   "metadata": {},
   "outputs": [],
   "source": [
    "# Perform the Fourier transform here.\n",
    "G0_tau = make_gf_from_fourier(G0_iw)"
   ]
  },
  {
   "cell_type": "markdown",
   "id": "21314b68-c82e-4dd0-9959-6ec6b6ff07ce",
   "metadata": {},
   "source": [
    "Then we calculate the second-order self-energy in imaginary frequency ${\\cal G}_0(\\tau)^3$."
   ]
  },
  {
   "cell_type": "code",
   "execution_count": null,
   "id": "054330c0-85d4-4cd7-8604-c0bd660b3521",
   "metadata": {},
   "outputs": [],
   "source": [
    "# Perform the calculation here.\n",
    "Sigma_tau = U**2 * G0_tau * G0_tau * G0_tau"
   ]
  },
  {
   "cell_type": "markdown",
   "id": "105e6b7f-a264-40f9-9abb-fcb4733d2976",
   "metadata": {},
   "source": [
    "As a last step, we Fourier transform back to imaginary frequencies and add the first order term $U/2$."
   ]
  },
  {
   "cell_type": "code",
   "execution_count": null,
   "id": "83320123-dfdc-4c1b-a64c-ccb23a930858",
   "metadata": {},
   "outputs": [],
   "source": [
    "# Fourier transform back and add the first order.\n",
    "Sigma_iw = U / 2. + make_gf_from_fourier(Sigma_tau)"
   ]
  },
  {
   "cell_type": "markdown",
   "id": "26a7d0c3-e0a9-4912-964d-5fef399cefeb",
   "metadata": {},
   "source": [
    "In order to calculate the Green function of the impurity model, we first fill the Weiss field with the updated chemical potential $\\mu = U/2$."
   ]
  },
  {
   "cell_type": "code",
   "execution_count": null,
   "id": "a8619815-d4e4-4b94-b160-3ba3615b1929",
   "metadata": {},
   "outputs": [],
   "source": [
    "# Please fill the Weiss field here.\n",
    "mu = U / 2.\n",
    "G0_iw << inverse(Omega - eps_0 + mu - V**2 * Flat(D))"
   ]
  },
  {
   "cell_type": "markdown",
   "id": "224e0857-f51f-4f14-ba7d-be3ae2ab2b42",
   "metadata": {},
   "source": [
    "Next, we construct the Green function by using the `copy()` function on the Weiss field and fill it using the Dyson equation\n",
    "\n",
    "$$\n",
    "G(i\\omega_n)^{-1} = \\cal{G}_0(i\\omega_n)^{-1} - \\Sigma(i\\omega_n).\n",
    "$$\n",
    "\n",
    "We also check the filling here."
   ]
  },
  {
   "cell_type": "code",
   "execution_count": null,
   "id": "93cb8e5d-4659-42c6-94df-d56c6c59b65c",
   "metadata": {},
   "outputs": [],
   "source": [
    "# Please construct G(iw_n) and execute the Dyson equation.\n",
    "G_iw = G0_iw.copy()\n",
    "G_iw << inverse(inverse(G0_iw) - Sigma_iw)\n",
    "print(\"density of G: %s\"%G_iw.density())"
   ]
  },
  {
   "cell_type": "markdown",
   "id": "2745d288-5305-44df-87c3-ce44f843f321",
   "metadata": {},
   "source": [
    "For illustration purposes we want to obtain the analytic continuation of $G(i\\omega_n)$ by using Pade. We first construct a Green function with a real-frequency mesh with a frequency window of $(-20,20)$ and $n_\\omega=1000$ frequencies before using the `set_from_pade` method."
   ]
  },
  {
   "cell_type": "code",
   "execution_count": null,
   "id": "94b4ad02-4829-4ef9-abca-4efdefe60e3d",
   "metadata": {},
   "outputs": [],
   "source": [
    "# Please perform the analytic continuation here.\n",
    "# Get real axis function with Pade approximation\n",
    "G_w = Gf(mesh=MeshReFreq(window = (-20.0,20.0), n_w=1000), target_shape=[1,1])\n",
    "G_w.set_from_pade(G_iw, 100, 0.01)"
   ]
  },
  {
   "cell_type": "code",
   "execution_count": null,
   "id": "2f92adca-05cb-4ad4-bd71-678214ecd28b",
   "metadata": {},
   "outputs": [],
   "source": [
    "# Please plot the spectral function here.\n",
    "oplot(-G_w.imag/pi, linewidth=3, label=rf\"$\\beta$ = {beta:.2f}\")\n",
    "plt.xlim(-20,20)\n",
    "plt.ylim(0,)\n",
    "plt.ylabel(\"\")\n",
    "plt.show()"
   ]
  },
  {
   "cell_type": "markdown",
   "id": "36819f2c-5d5d-4919-ab8d-f323d8653e23",
   "metadata": {},
   "source": [
    "In order to get more insight into the physics, we also plot the real and imaginary parts of the self-energy, respectively, as a function of the Matsubara frequency for the lowest frequencies."
   ]
  },
  {
   "cell_type": "code",
   "execution_count": null,
   "id": "491f2bc5-6729-4822-b15f-3648744371c6",
   "metadata": {},
   "outputs": [],
   "source": [
    "# Please plot here the real part.\n",
    "oplot(Sigma_iw.real, '-o', label='')\n",
    "plt.xlim(0,4)\n",
    "\n",
    "plt.ylabel(r'Re $\\Sigma(i\\omega_n)$')\n",
    "plt.show()"
   ]
  },
  {
   "cell_type": "code",
   "execution_count": null,
   "id": "0e80d6c5-d6da-4673-90e4-3a0e994135c2",
   "metadata": {},
   "outputs": [],
   "source": [
    "# Please plot here the imaginary part.\n",
    "oplot(Sigma_iw.imag, '-o', label='')\n",
    "plt.xlim(0,4)\n",
    "\n",
    "plt.ylabel(r'Im $\\Sigma(i\\omega_n)$')\n",
    "plt.show()"
   ]
  },
  {
   "cell_type": "markdown",
   "id": "42b7a276-f9e8-4416-b311-5ae8b59cab55",
   "metadata": {},
   "source": [
    "What is the physical interpretation of the spectral function given, particularly w.r.t. the discussion in the lecture about conductance in quantum dots? Please perform another calculation with $U=10$. What is the difference?"
   ]
  },
  {
   "cell_type": "markdown",
   "id": "9aabcf79-321d-49da-a40e-09cdff41d479",
   "metadata": {},
   "source": [
    "### <i class=\"fa fa-gear fa-x\" style=\"color: #186391\"></i> Exercise 1\n",
    "We now want to gain a more quantitative understanding. For this, we want to extract the quasiparticle weight $Z$, the scattering rate $\\gamma$, as well as the derived quantities effective mass $m^*/m=Z^{-1}$ (particularly simple for a *local* self-energy) and quasiparticle lifetime $\\tau=\\left(Z\\gamma\\right)^{-1}$. This can be done directly from the self-energy on the Matsubara axis:\n",
    "\n",
    "$$\n",
    "Z = \\left[1 - \\frac{\\partial\\text{Im }\\Sigma(i\\omega_n)}{\\partial\\omega_n}\\Biggr|_{\\omega_n\\rightarrow 0} \\right]^{-1},\n",
    "$$\n",
    "$$\n",
    "\\gamma = -\\text{Im }\\Sigma(i\\omega_n)\\biggr|_{\\omega_n\\rightarrow 0}.\n",
    "$$\n",
    "\n",
    "Calculate these quantities by first extracting the data from Im $\\Sigma(i\\omega_n)$ via the `data` member and then using numpy routines (`numpy.polyfit`) to fit the function for small positive frequencies, e.g., via a polynom of degree 3 for the first 10 frequencies. This procedure is sometimes called \"poor man's analytic continuation\". Check the quality of the fit by plotting the fit over the first frequencies. Using this polynom, then, calculate all the parameters above for several values of the interaction $U=0.001,2,4,6,8,10$. How do they behave?"
   ]
  },
  {
   "cell_type": "markdown",
   "id": "17b1a0a4-74fb-4dfa-8b59-6667b3191211",
   "metadata": {},
   "source": [
    "### <i class=\"fa fa-gear fa-x\" style=\"color: #186391\"></i> Exercise 2\n",
    "Carry out the same analysis for two temperature cuts (several values of $\\beta$): one for $U=2$ and one for $U=10$."
   ]
  },
  {
   "cell_type": "code",
   "execution_count": null,
   "id": "d2a08ecb-9ece-4b8f-8153-fd3ce1423d69",
   "metadata": {},
   "outputs": [],
   "source": [
    "# extract data from Sigma\n",
    "Im_Sigma_iw_data = Sigma_iw[0,0].imag.data[n_iw:]"
   ]
  },
  {
   "cell_type": "code",
   "execution_count": null,
   "id": "d76fcc56-4a72-4c17-bce6-00dc7d435822",
   "metadata": {},
   "outputs": [],
   "source": [
    "# extract Matsubara frequencies\n",
    "iw_data = []\n",
    "for iw in iw_mesh:\n",
    "    if iw.imag > 0.:\n",
    "        iw_data.append(iw.imag)"
   ]
  },
  {
   "cell_type": "code",
   "execution_count": null,
   "id": "99245c18-ee59-44cf-8613-f8cdd819d72e",
   "metadata": {},
   "outputs": [],
   "source": [
    "# make fit of degree 2 with 3 frequencies\n",
    "n_iw_fit = 10\n",
    "degree = 3\n",
    "fit = np.poly1d(np.polyfit(iw_data[:n_iw_fit], Im_Sigma_iw_data[:n_iw_fit], degree))"
   ]
  },
  {
   "cell_type": "code",
   "execution_count": null,
   "id": "3853dc41-e4fb-43db-9592-97e7a75e007a",
   "metadata": {},
   "outputs": [],
   "source": [
    "# plot the fit and the frequencies\n",
    "# continous frequencies for plotting fit\n",
    "iw_cont = (2. * np.linspace(0,20) + 1) * pi / beta\n",
    "\n",
    "plt.plot(iw_data[:n_iw_fit], Im_Sigma_iw_data[:n_iw_fit], 'o', color='red', label='used for fit')\n",
    "plt.plot(iw_data[n_iw_fit:], Im_Sigma_iw_data[n_iw_fit:], 'o', color='blue', label='all frequencies')\n",
    "plt.plot(iw_cont, fit(iw_cont), '-', color='green', label='fit')\n",
    "\n",
    "plt.xlim(0,4)\n",
    "plt.xlabel(r'$\\omega_n$')\n",
    "\n",
    "plt.legend(loc=1)\n",
    "\n",
    "plt.ylabel(r'Im $\\Sigma(i\\omega_n)$')\n",
    "plt.show()"
   ]
  },
  {
   "cell_type": "code",
   "execution_count": null,
   "id": "8124dd8d-7694-4f9b-9011-82f38ab204d7",
   "metadata": {},
   "outputs": [],
   "source": [
    "# extract quasiparticle parameters\n",
    "gamma = -fit(0.)\n",
    "print(\"scattering rate gamma: %s\"%gamma)\n",
    "Z = 1. / (1. - fit.deriv(1)(0.))\n",
    "print(\"quasiparticle weight Z: %s\"%Z)\n",
    "m_eff = 1. / Z\n",
    "print(\"effective mass m_eff: %s\"%m_eff)\n",
    "tau = 1. / (Z * gamma)\n",
    "print(\"quasiparticle lifetime: %s\"%tau)"
   ]
  },
  {
   "cell_type": "code",
   "execution_count": null,
   "id": "272831ea-e47f-481b-b323-1d96fa7face1",
   "metadata": {},
   "outputs": [],
   "source": [
    "# looping over parameters for constant beta\n",
    "Us = [0.001, 2., 4., 6., 8., 10.]\n",
    "gammas = []\n",
    "Zs = []\n",
    "m_effs = []\n",
    "taus = []\n",
    "\n",
    "for U in Us:\n",
    "    mu = 0.\n",
    "    G0_iw << inverse(Omega - eps_0 + mu - V**2 * Flat(D))\n",
    "    \n",
    "    Sigma_tau = U**2 * G0_tau * G0_tau * G0_tau\n",
    "    Sigma_iw = U / 2. + make_gf_from_fourier(Sigma_tau)\n",
    "\n",
    "    Im_Sigma_iw_data = Sigma_iw[0,0].imag.data[n_iw:]\n",
    "    fit = np.poly1d(np.polyfit(iw_data[:n_iw_fit], Im_Sigma_iw_data[:n_iw_fit], degree))\n",
    "\n",
    "    gamma = -fit(0.)\n",
    "    gammas.append(gamma)\n",
    "    Z = 1. / (1. - fit.deriv(1)(0.))\n",
    "    Zs.append(Z)\n",
    "    m_eff = 1. / Z\n",
    "    m_effs.append(m_eff)\n",
    "    tau = 1. / (Z * gamma)\n",
    "    taus.append(tau)"
   ]
  },
  {
   "cell_type": "code",
   "execution_count": null,
   "id": "429b9cd7-5b70-44d3-a748-9e40a650352b",
   "metadata": {},
   "outputs": [],
   "source": [
    "plt.plot(Us, gammas, '-o')\n",
    "\n",
    "plt.xlim(0,)\n",
    "plt.ylim(0,)\n",
    "plt.xlabel('U')\n",
    "plt.ylabel(r'$\\gamma$')\n",
    "plt.show()"
   ]
  },
  {
   "cell_type": "code",
   "execution_count": null,
   "id": "8aada69e-12c5-43a1-9093-707c0a20ddb9",
   "metadata": {},
   "outputs": [],
   "source": [
    "plt.plot(Us, Zs, '-o')\n",
    "\n",
    "plt.xlim(0,)\n",
    "plt.ylim(0,)\n",
    "plt.xlabel('U')\n",
    "plt.ylabel(r'Z')\n",
    "plt.show()"
   ]
  },
  {
   "cell_type": "code",
   "execution_count": null,
   "id": "5cc14951-50a2-41fa-b67f-37d82ab27823",
   "metadata": {},
   "outputs": [],
   "source": [
    "plt.plot(Us, m_effs, '-o')\n",
    "\n",
    "plt.xlim(0,)\n",
    "plt.ylim(0,)\n",
    "plt.xlabel('U')\n",
    "plt.ylabel(r'$m^*/m$')\n",
    "plt.show()"
   ]
  },
  {
   "cell_type": "code",
   "execution_count": null,
   "id": "199a8f97-130b-4229-86ca-f5f109cd3bd2",
   "metadata": {},
   "outputs": [],
   "source": [
    "plt.plot(Us, taus, '-o')\n",
    "\n",
    "plt.xlim(0,)\n",
    "plt.ylim(0,1000)\n",
    "plt.xlabel('U')\n",
    "plt.ylabel(r'$\\tau$')\n",
    "plt.show()"
   ]
  },
  {
   "cell_type": "markdown",
   "id": "a090b02f-2dbd-44e1-a8f6-139968cf062b",
   "metadata": {},
   "source": [
    "Similarly for Exercise 2 - however, here, we have to adapt the meshes since they are at *different temperatures* now."
   ]
  }
 ],
 "metadata": {
  "kernelspec": {
   "display_name": "Python 3 (ipykernel)",
   "language": "python",
   "name": "python3"
  },
  "language_info": {
   "codemirror_mode": {
    "name": "ipython",
    "version": 3
   },
   "file_extension": ".py",
   "mimetype": "text/x-python",
   "name": "python",
   "nbconvert_exporter": "python",
   "pygments_lexer": "ipython3",
   "version": "3.13.5"
  }
 },
 "nbformat": 4,
 "nbformat_minor": 5
}
