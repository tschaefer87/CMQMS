{
 "cells": [
  {
   "cell_type": "markdown",
   "metadata": {
    "tags": []
   },
   "source": [
    "# TRIQS Green's functions\n",
    "\n",
    "It is now time to start using some of the tools provided by TRIQS.\n",
    "\n",
    "Much of the functionality in TRIQS, while implemented in C++ for optimal performance, is exposed\n",
    "through a Python interface to make it easier to use. From a practical point of view this means\n",
    "that you can think of TRIQS as a python library, just like numpy or matplotlib.\n",
    "\n",
    "One of the central objects of a many-body calculation is a Green's function.\n",
    "Green's functions in TRIQS are functions defined on a mesh $\\cal{M}$ of points that hold values in some domain $\\cal{D}$, for example $\\mathbb{C}^{2\\times2}$\n",
    "\n",
    "$$\n",
    "G: \\cal{M} \\rightarrow \\cal{D}\n",
    "$$\n",
    "\n",
    "A few common Green's function meshes in TRIQS include:\n",
    "\n",
    "- `MeshReFreq` - Real-frequencies equally spaced in $[\\omega_{min},\\omega_{max}]$\n",
    "- `MeshImFreq` - Matsubara Frequencies\n",
    "- `MeshImTime` - Imaginary time points equally spaced in $[0,\\beta]$\n",
    "- `MeshReTime` - Real-time points (not covered in this tutorial)\n",
    "\n",
    "Let's see how we can **construct a Mesh and print its values**."
   ]
  },
  {
   "cell_type": "code",
   "execution_count": null,
   "metadata": {},
   "outputs": [],
   "source": [
    "# Import the Mesh type we want to use\n",
    "from triqs.gf import MeshImTime\n",
    "\n",
    "# The documentation tells us which parameters we need to pass for the mesh construction\n",
    "?MeshImTime"
   ]
  },
  {
   "cell_type": "code",
   "execution_count": null,
   "metadata": {},
   "outputs": [],
   "source": [
    "# Provide the inverse temperature, Statistic, and number of points\n",
    "tau_mesh = MeshImTime(beta=5, statistic='Fermion', n_tau=11)\n",
    "\n",
    "# We can loop and print the mesh-point values\n",
    "for tau in tau_mesh:\n",
    "    print(tau.value)\n",
    "\n",
    "    # Using tab for auto completion can be very helpful to understand\n",
    "    # which other members, functions and properties are available for\n",
    "    # a given Python object like 'tau'.\n",
    "    # Type 'tau.' below and use tab to see which options you get!"
   ]
  },
  {
   "cell_type": "markdown",
   "metadata": {},
   "source": [
    "Let us now **create and initialize a Green's function for a single atomic level** with energy $\\epsilon$ in the grand-canonical ensemble with inverse temperature $\\beta$\n",
    "\n",
    "$$\n",
    "G[\\tau] = -\\langle\\cal{T}c(\\tau) c^\\dagger\\rangle = -\\frac{e^{-\\tau \\epsilon}}{1+e^{-\\beta \\epsilon}}\n",
    "= -\\frac{e^{\\left(\\beta \\Theta(-\\epsilon) -\\tau\\right) \\epsilon}}{1+e^{-\\beta |\\epsilon|}}$$\n",
    "\n",
    "In practice we use the second expression, as it avoids diverging exponentials for large values of $\\beta$.\n",
    "We first have a look at the documentation for `Gf`."
   ]
  },
  {
   "cell_type": "code",
   "execution_count": null,
   "metadata": {},
   "outputs": [],
   "source": [
    "from triqs.gf import Gf\n",
    "?Gf"
   ]
  },
  {
   "cell_type": "code",
   "execution_count": null,
   "metadata": {},
   "outputs": [],
   "source": [
    "# Create scalar-valued imaginary-time Green's function\n",
    "G = Gf(mesh=tau_mesh, target_shape=[], is_real=True)\n",
    "\n",
    "# Print the Green's function description\n",
    "print(G)"
   ]
  },
  {
   "cell_type": "code",
   "execution_count": null,
   "metadata": {},
   "outputs": [],
   "source": [
    "# Loop initialization\n",
    "eps = -0.4\n",
    "beta = G.mesh.beta\n",
    "from math import exp\n",
    "for tau in G.mesh:\n",
    "    G[tau] = -exp((beta*(eps<0) - tau.value) * eps) / (1. + exp(-beta * abs(eps)))\n",
    "    print(f\"{G[tau]:.3f}\")"
   ]
  },
  {
   "cell_type": "markdown",
   "metadata": {},
   "source": [
    "In order to **plot this Green's function** we can use the matplotlib interface defined in TRIQS.\n",
    "Note that the function to plot Green's function is `oplot` and not just `plot` like in matplotlib."
   ]
  },
  {
   "cell_type": "code",
   "execution_count": null,
   "metadata": {},
   "outputs": [],
   "source": [
    "from triqs.plot.mpl_interface import oplot,plt\n",
    "\n",
    "# Make plots show up directly in the notebook:\n",
    "%matplotlib inline\n",
    "\n",
    "# Make all figures slightly bigger\n",
    "import matplotlib as mpl\n",
    "mpl.rcParams['figure.dpi']=100\n",
    "\n",
    "# Additional arguments like 'linewidth' are passed on to matplotlib\n",
    "oplot(G, '-', name='G', linewidth=2)"
   ]
  },
  {
   "cell_type": "markdown",
   "metadata": {
    "tags": []
   },
   "source": [
    "## Matrix-Valued Green's functions\n",
    "\n",
    "In most realistic problems we have to treat more than just a single orbital\n",
    "\n",
    "$$\n",
    "G_{ij}[\\tau] = -\\langle\\cal{T}c_i(\\tau) c_j^\\dagger\\rangle\n",
    "$$\n",
    "\n",
    "For this purpose, TRIQS provides Green's functions that have a Matrix structure. Let's see how you can create and use them"
   ]
  },
  {
   "cell_type": "code",
   "execution_count": null,
   "metadata": {},
   "outputs": [],
   "source": [
    "# A uniform real-frequency mesh on a given interval\n",
    "from triqs.gf import MeshReFreq\n",
    "w_mesh = MeshReFreq(window=(-4,4), n_w=1000)\n",
    "\n",
    "# Gf with 2x2 Matrix structure holding complex values\n",
    "G = Gf(mesh=w_mesh, target_shape=[2,2])\n",
    "G # <- Same as print(repr(G))"
   ]
  },
  {
   "cell_type": "code",
   "execution_count": null,
   "metadata": {},
   "outputs": [],
   "source": [
    "# Accessing a specific mesh point gives us a matrix\n",
    "from triqs.gf import Idx # Use Idx to access Gf at specific Index\n",
    "print(G[Idx(0)])"
   ]
  },
  {
   "cell_type": "code",
   "execution_count": null,
   "metadata": {},
   "outputs": [],
   "source": [
    "# By Fixing the orbital indices we obtain a Green's function that is no longer matrix but complex-valued\n",
    "G[0,0]"
   ]
  },
  {
   "cell_type": "markdown",
   "metadata": {},
   "source": [
    "## Additional Initialization Descriptors\n",
    "\n",
    "In the following we will introduce a few additional means of initializing Green's functions using `<<`."
   ]
  },
  {
   "cell_type": "markdown",
   "metadata": {},
   "source": [
    "### Flat density of states\n",
    "Consider the problem of a single atomic level embedded in a flat conduction bath $\\Gamma$ of electrons.\n",
    "$$\n",
    "G(\\omega) = \\frac{1}{\\omega - \\epsilon_d - V^2 \\Gamma(\\omega) + i\\eta}\n",
    "$$\n",
    "\n",
    "In the equation above $\\epsilon_d$ is the energy of the level and $\\Gamma$ is the Green's function of\n",
    "a flat conduction bath\n",
    "\n",
    "$$\n",
    "\\Gamma(\\omega) = \\int_{-D}^{D}\\frac{1}{\\omega-\\epsilon + i\\eta}\\frac{d\\epsilon}{2D}\n",
    "$$\n",
    "\n",
    "Here $D$ denotes the half-bandwidth.\n",
    "Let's see how to define and then plot this Green's function by using `inverse` and the `Flat` descriptor."
   ]
  },
  {
   "cell_type": "markdown",
   "metadata": {},
   "source": [
    "First, we plot the flat density of states."
   ]
  },
  {
   "cell_type": "code",
   "execution_count": null,
   "metadata": {},
   "outputs": [],
   "source": [
    "D = 1.5 # Half bandwidth\n",
    "\n",
    "G = Gf(mesh=w_mesh, target_shape=[])\n",
    "\n",
    "from triqs.gf import Flat\n",
    "from math import pi\n",
    "G << Flat(D)\n",
    "\n",
    "oplot(-G.imag/pi, name=r\"$\\rho$\") "
   ]
  },
  {
   "cell_type": "markdown",
   "metadata": {},
   "source": [
    "Note the predefined function `Flat` for a flat conduction bath $\\Gamma(\\omega)$. Now, we calculate the actual Green function of the atomic level, hybridized with the flat bath."
   ]
  },
  {
   "cell_type": "code",
   "execution_count": null,
   "metadata": {},
   "outputs": [],
   "source": [
    "eps_d = 0.5   # Energy\n",
    "V = 0.2       # Bath Hybridization\n",
    "D = 1.5       # Half bandwidth\n",
    "ieta = 1e-13j # small broadening\n",
    "\n",
    "G = Gf(mesh=w_mesh, target_shape=[])\n",
    "\n",
    "from triqs.gf import Omega, Flat, inverse\n",
    "G << inverse(Omega - eps_d - V**2 * Flat(D) + ieta)"
   ]
  },
  {
   "cell_type": "markdown",
   "metadata": {},
   "source": [
    "Let's plot the atomic Green's function. Note that default, both the real and imaginary parts are plotted."
   ]
  },
  {
   "cell_type": "code",
   "execution_count": null,
   "metadata": {},
   "outputs": [],
   "source": [
    "oplot(G, '-', linewidth=2, name=\"G\") "
   ]
  },
  {
   "cell_type": "markdown",
   "metadata": {},
   "source": [
    "We can plot the spectral function, which is defined as\n",
    "\n",
    "$$ \\rho(\\omega) = -\\frac{1}{\\pi} \\, \\textbf{Im} \\, G $$"
   ]
  },
  {
   "cell_type": "code",
   "execution_count": null,
   "metadata": {},
   "outputs": [],
   "source": [
    "oplot(-G.imag/pi, linewidth=2, name=r\"$\\rho$\")"
   ]
  },
  {
   "cell_type": "markdown",
   "metadata": {},
   "source": [
    "As expected the spectral function is peaked at $\\epsilon_d$ and shows a jump in spectral weight at $D$."
   ]
  },
  {
   "cell_type": "markdown",
   "metadata": {},
   "source": [
    "### Semi-circular density of states\n",
    "\n",
    "Another predefined Green's function is the one corresponding to a semi-circular spectral function. This one will be useful in the DMFT Tutorials later on."
   ]
  },
  {
   "cell_type": "code",
   "execution_count": null,
   "metadata": {},
   "outputs": [],
   "source": [
    "D = 1.0 # Half bandwidth\n",
    "\n",
    "G = Gf(mesh=w_mesh, target_shape=[])\n",
    "\n",
    "from triqs.gf import SemiCircular\n",
    "G << SemiCircular(D)\n",
    "\n",
    "oplot(-G.imag/pi, name=r\"$\\rho$\") "
   ]
  },
  {
   "cell_type": "markdown",
   "metadata": {},
   "source": [
    "Imaginary-frequency Green's functions\n",
    "-------------------------------------\n",
    "\n",
    "These are Green's function defined on the Matsubara axis. The fermionic Matsubara frequencies\n",
    "are defined by\n",
    "\n",
    "$$\\omega_n = \\frac{(2n+1)\\pi}{\\beta}$$\n",
    "\n",
    "where $\\beta = 1/T$ is the inverse temperature. These Green's functions are important because\n",
    "most Monte Carlo algorithms yield results on the Matsubara axis. Let's see how they\n",
    "are defined:"
   ]
  },
  {
   "cell_type": "code",
   "execution_count": null,
   "metadata": {},
   "outputs": [],
   "source": [
    "# Define the imaginary-frequency mesh\n",
    "from triqs.gf import MeshImFreq\n",
    "iw_mesh = MeshImFreq(beta=5, statistic='Fermion', n_iw=1000)\n",
    "\n",
    "# Create Green's function and fill it using the iOmega_n descriptor\n",
    "G = Gf(mesh=iw_mesh, target_shape=[])\n",
    "from triqs.gf import iOmega_n\n",
    "G << inverse(iOmega_n - 0.2)\n",
    "\n",
    "# Plot the Green's function\n",
    "oplot(G, '-o', name='G')\n",
    "plt.xlim(0,10)\n",
    "plt.show()"
   ]
  },
  {
   "cell_type": "markdown",
   "metadata": {},
   "source": [
    "## Arithmetic Operations\n",
    "\n",
    "Green's functions can be added, multiplied by numbers, etc. The way this is done is quite natural."
   ]
  },
  {
   "cell_type": "code",
   "execution_count": null,
   "metadata": {},
   "outputs": [],
   "source": [
    "oplot(G, \"-o\", name='G')\n",
    "oplot(G+G, \"-o\", name='G+G')\n",
    "oplot(3*G+2, \"-o\", name='3*G+2')\n",
    "plt.xlim(0,10)\n",
    "plt.show()"
   ]
  },
  {
   "cell_type": "markdown",
   "metadata": {},
   "source": [
    "## Obtaining the density\n",
    "\n",
    "You can obtain the density for Green's functions with a `MeshReFreq` and `MeshImFreq` using the `density` method"
   ]
  },
  {
   "cell_type": "code",
   "execution_count": null,
   "metadata": {},
   "outputs": [],
   "source": [
    "G = Gf(mesh=iw_mesh, target_shape=[])\n",
    "G << inverse(iOmega_n - 0.2)\n",
    "print(\"Density =\", G.density())"
   ]
  },
  {
   "cell_type": "markdown",
   "metadata": {},
   "source": [
    "Do not worry about the imaginary component as the machine precision is on the order of $10^{-15}$."
   ]
  },
  {
   "cell_type": "markdown",
   "metadata": {},
   "source": [
    "## Fourier transforms\n",
    "\n",
    "TRIQS allows you to easily Fourier transform Green's functions from imaginary-time to imaginary-frequency."
   ]
  },
  {
   "cell_type": "code",
   "execution_count": null,
   "metadata": {},
   "outputs": [],
   "source": [
    "# A Green's function in frequency set to semi-circular\n",
    "Giw = Gf(mesh=iw_mesh, target_shape=[])\n",
    "Giw << SemiCircular(1.0)\n",
    "\n",
    "# A Green's function in time set by inverse Fourier transform\n",
    "from triqs.gf import make_gf_from_fourier\n",
    "Gtau = make_gf_from_fourier(Giw)\n",
    "oplot(Gtau, name='G')"
   ]
  },
  {
   "cell_type": "markdown",
   "metadata": {},
   "source": [
    "We can also go the other way. Let's check that it gives back the original result."
   ]
  },
  {
   "cell_type": "code",
   "execution_count": null,
   "metadata": {},
   "outputs": [],
   "source": [
    "Giw_2 = make_gf_from_fourier(Gtau)\n",
    "oplot(Giw, 'o')\n",
    "oplot(Giw_2, 'x')\n",
    "plt.ylabel(r'$G(i\\omega_n)$')\n",
    "plt.xlim(0,5)\n",
    "plt.show()"
   ]
  },
  {
   "cell_type": "markdown",
   "metadata": {},
   "source": [
    "In the example above `make_gf_from_fourier` will construct a new Green's function object.\n",
    "This uses the `statistic` information of `MeshImTime` to decide wether to use bosonic or fermionic Matsubara frequencies.\n",
    "If we want to instead use an existing Green's function we can use the `Fourier` descriptor"
   ]
  },
  {
   "cell_type": "code",
   "execution_count": null,
   "metadata": {},
   "outputs": [],
   "source": [
    "from triqs.gf import Fourier\n",
    "Gtau << Fourier(Giw)"
   ]
  },
  {
   "cell_type": "markdown",
   "metadata": {},
   "source": [
    "## Pade analytical continuation\n",
    "\n",
    "The Fourier transforms allow to go from time to frequency. A much more delicate thing is to do the so-called \"analytical continuation\". This means to start from a Matsubara-frequency Green's function and obtain the corresponding real-frequency Green's function. This can formally be done, but turns out to be a mathematically ill-conditioned problem. Even small amounts of noise in the Matsubara-frequency data will make the continuation to the real axis very unstable.\n",
    "\n",
    "One of the ways to do perform analytical continuation is to use [Pade approximants](https://en.wikipedia.org/wiki/Padé_approximant#Definition). TRIQS can do that for you in the following way:\n",
    "\n",
    "*Note:* Pade is currently implemented only for Green's functions with a Matrix structure"
   ]
  },
  {
   "cell_type": "code",
   "execution_count": null,
   "metadata": {},
   "outputs": [],
   "source": [
    "# The Matsubara Green's function to be continued\n",
    "iw_mesh = MeshImFreq(beta=50, statistic='Fermion', n_iw=1000)\n",
    "Giw = Gf(mesh=iw_mesh, target_shape=[1,1])\n",
    "Giw << SemiCircular(1.0)\n",
    "\n",
    "# Construct real-frequency Green's function and initialize it using Pade approximants\n",
    "Gw = Gf(mesh=w_mesh, target_shape=[1,1])\n",
    "Gw.set_from_pade(Giw)\n",
    "\n",
    "oplot(-Gw.imag/pi, linewidth=2)"
   ]
  },
  {
   "cell_type": "markdown",
   "metadata": {},
   "source": [
    "The coarse Matsubara discretization at high temperatures will worsen the Pade result, which is why we chose a much lower temperature value for this example.\n",
    "\n",
    "You can see that the Pade continuation did a pretty good job. We will see later that noise will completely change this picture!"
   ]
  },
  {
   "cell_type": "markdown",
   "metadata": {},
   "source": [
    "## Exercises"
   ]
  },
  {
   "cell_type": "markdown",
   "metadata": {},
   "source": [
    "### <i class=\"fa fa-gear fa-x\" style=\"color: #186391\"></i> Exercise 1\n",
    "\n",
    "Plot the density $n(\\epsilon)$ as a function of $\\epsilon$ for a Green's function $G = 1/(i\\omega_n - \\epsilon)$. What is the curve that you obtained? How does it change with temperature?"
   ]
  },
  {
   "cell_type": "markdown",
   "metadata": {},
   "source": [
    "### <i class=\"fa fa-gear fa-x\" style=\"color: #186391\"></i> Exercise 2\n",
    "\n",
    "Consider a Hubbard atom with $U=2$ at temperature $T = 1/\\beta = 1/10$. The non-interacting and interacting Green's functions for this problem are:\n",
    "\n",
    "$$\n",
    "G_0 = \\frac{1}{i \\omega_n + \\mu} \\qquad \\mu = U/2\n",
    "$$\n",
    "\n",
    "$$\n",
    "G = \\frac{1}{2(i\\omega_n + U/2)} + \\frac{1}{2(i\\omega_n - U/2)}\n",
    "$$\n",
    "\n",
    "Here the chemical potential $\\mu$ is chosen such that the interacting system is half filled.\n",
    "\n",
    "Using Dyson's equation, verify that the corresponding self-energy is indeed\n",
    "\n",
    "$$\n",
    "\\Sigma = \\frac{U}{2} + \\frac{U^2}{4 i\\omega_n}\n",
    "$$\n",
    "\n",
    "*Note: At half-filling the chemical potential $\\mu = U/2$ and the static part of the self-energy exactly cancel.*"
   ]
  }
 ],
 "metadata": {
  "kernelspec": {
   "display_name": "Python 3 (ipykernel)",
   "language": "python",
   "name": "python3"
  },
  "language_info": {
   "codemirror_mode": {
    "name": "ipython",
    "version": 3
   },
   "file_extension": ".py",
   "mimetype": "text/x-python",
   "name": "python",
   "nbconvert_exporter": "python",
   "pygments_lexer": "ipython3",
   "version": "3.13.5"
  },
  "latex_envs": {
   "LaTeX_envs_menu_present": true,
   "autocomplete": true,
   "bibliofile": "biblio.bib",
   "cite_by": "apalike",
   "current_citInitial": 1,
   "eqLabelWithNumbers": true,
   "eqNumInitial": 1,
   "hotkeys": {
    "equation": "Ctrl-E",
    "itemize": "Ctrl-I"
   },
   "labels_anchors": false,
   "latex_user_defs": false,
   "report_style_numbering": false,
   "user_envs_cfg": false
  },
  "widgets": {
   "state": {},
   "version": "1.1.1"
  }
 },
 "nbformat": 4,
 "nbformat_minor": 4
}
