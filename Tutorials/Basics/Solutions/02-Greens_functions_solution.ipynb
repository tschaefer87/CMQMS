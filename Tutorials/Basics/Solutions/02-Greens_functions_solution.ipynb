{
 "cells": [
  {
   "cell_type": "code",
   "execution_count": null,
   "id": "e4d22de8-0c9e-44a2-93de-f36d5ebc7b39",
   "metadata": {},
   "outputs": [],
   "source": [
    "from triqs.gf import Gf, MeshImFreq, iOmega_n, inverse\n",
    "from numpy import linspace"
   ]
  },
  {
   "cell_type": "code",
   "execution_count": null,
   "id": "8ab38a54-358d-4361-8fa5-3343e3ac2aa0",
   "metadata": {},
   "outputs": [],
   "source": [
    "import matplotlib.pyplot as plt\n",
    "%matplotlib inline\n",
    "import matplotlib as mpl\n",
    "mpl.rcParams['figure.dpi']=100 "
   ]
  },
  {
   "cell_type": "code",
   "execution_count": null,
   "id": "126d139e-e8e7-43d5-a8d3-96bc3b4c0d38",
   "metadata": {},
   "outputs": [],
   "source": [
    "from triqs.plot.mpl_interface import oplot,plt"
   ]
  },
  {
   "cell_type": "markdown",
   "id": "089ea038-8250-46b4-b407-63f23adc6c83",
   "metadata": {},
   "source": [
    "### <i class=\"fa fa-gear fa-x\" style=\"color: #186391\"></i> Exercise 1\n",
    "\n",
    "Plot the density $n(\\epsilon)$ as a function of $\\epsilon$ for a Green's function $G = 1/(i\\omega_n - \\epsilon)$. What is the curve that you obtained? How does it change with temperature?"
   ]
  },
  {
   "cell_type": "code",
   "execution_count": null,
   "id": "e46732ae-b7c3-44d3-96dc-4b5bb39e9592",
   "metadata": {},
   "outputs": [],
   "source": [
    "betas    = linspace(1.,10.,9)\n",
    "epsilons = linspace(-10.,10.,41)"
   ]
  },
  {
   "cell_type": "code",
   "execution_count": null,
   "id": "2d61cc42-e2c7-49cf-86e1-109d4e3392c1",
   "metadata": {},
   "outputs": [],
   "source": [
    "for beta in betas:\n",
    "    iw_mesh = MeshImFreq(beta=beta, statistic='Fermion', n_iw=1000)\n",
    "    G = Gf(mesh=iw_mesh, target_shape=[])\n",
    "    densities = []\n",
    "    for epsilon in epsilons:\n",
    "        G << inverse(iOmega_n - epsilon)\n",
    "        densities += [G.density().real]\n",
    "    plt.plot(epsilons, densities, '-o', label=rf'$\\beta$ = {beta}')\n",
    "plt.xlabel(r'$\\varepsilon$')\n",
    "plt.ylabel(r'$n(\\varepsilon)$')\n",
    "plt.legend(loc=1)\n",
    "plt.show()"
   ]
  },
  {
   "cell_type": "markdown",
   "id": "d938f7c1-3bc1-4a49-8973-dea23b95f64a",
   "metadata": {},
   "source": [
    "### <i class=\"fa fa-gear fa-x\" style=\"color: #186391\"></i> Exercise 4\n",
    "\n",
    "Consider a Hubbard atom with $U=2$ at temperature $T = 1/\\beta = 1/10$. The non-interacting and interacting Green's functions for this problem are:\n",
    "\n",
    "$$\n",
    "G_0 = \\frac{1}{i \\omega_n + \\mu} \\qquad \\mu = U/2\n",
    "$$\n",
    "\n",
    "$$\n",
    "G = \\frac{1}{2(i\\omega_n + U/2)} + \\frac{1}{2(i\\omega_n - U/2)}\n",
    "$$\n",
    "\n",
    "Here the chemical potential $\\mu$ is chosen such that the interacting system is half filled.\n",
    "\n",
    "Using Dyson's equation, verify that the corresponding self-energy is indeed\n",
    "\n",
    "$$\n",
    "\\Sigma = \\frac{U}{2} + \\frac{U^2}{4 i\\omega_n}\n",
    "$$\n",
    "\n",
    "*Note: At half-filling the chemical potential $\\mu = U/2$ and the static part of the self-energy exactly cancel.*"
   ]
  },
  {
   "cell_type": "code",
   "execution_count": null,
   "id": "edf01ea9-cf67-4505-a13a-2d7cf6b5ad6e",
   "metadata": {},
   "outputs": [],
   "source": [
    "# Parameters\n",
    "U = 2.0\n",
    "\n",
    "# Green's function containers\n",
    "iw_mesh = MeshImFreq(beta=10, statistic='Fermion', n_iw=1000)\n",
    "G_0 = Gf(mesh=iw_mesh, target_shape=[])\n",
    "G = G_0.copy()\n",
    "Sigma = G_0.copy()\n",
    "Sigma_check = G_0.copy()\n",
    "\n",
    "# Green's functions of the Hubbard atom\n",
    "G_0 << inverse(iOmega_n + U/2)\n",
    "G << 0.5*inverse(iOmega_n + U/2) + 0.5*inverse(iOmega_n - U/2)\n",
    "\n",
    "# Dyson's equation to find the self-energy\n",
    "Sigma << inverse(G_0) - inverse(G)\n",
    "\n",
    "# Known analytical solution\n",
    "Sigma_check << U/2 + U*inverse(2*iOmega_n)\n",
    "\n",
    "oplot(Sigma_check, '-o', name=r'$\\Sigma$_check')\n",
    "oplot(Sigma, '-x', name=r'$\\Sigma$')\n",
    "plt.xlim(0,10)\n",
    "plt.show()"
   ]
  }
 ],
 "metadata": {
  "kernelspec": {
   "display_name": "Python 3 (ipykernel)",
   "language": "python",
   "name": "python3"
  },
  "language_info": {
   "codemirror_mode": {
    "name": "ipython",
    "version": 3
   },
   "file_extension": ".py",
   "mimetype": "text/x-python",
   "name": "python",
   "nbconvert_exporter": "python",
   "pygments_lexer": "ipython3",
   "version": "3.13.5"
  }
 },
 "nbformat": 4,
 "nbformat_minor": 5
}
